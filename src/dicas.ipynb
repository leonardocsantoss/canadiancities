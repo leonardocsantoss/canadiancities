{
 "cells": [
  {
   "cell_type": "markdown",
   "metadata": {},
   "source": [
    "# Dicas de uso do Jupyter Notebook"
   ]
  },
  {
   "cell_type": "markdown",
   "metadata": {},
   "source": [
    "## Ambiente de Desenvolvimento\n",
    "\n",
    "### Python3.7 e Virtualenv\n",
    "\n",
    "Criação e ativação de Virtualenv.\n",
    "\n",
    "```\n",
    "virtualenv --python='/usr/bin/python3.7' python37env\n",
    "source ~/dev/python/python37env/bin/activate\n",
    "\n",
    "pip install jupyter\n",
    "```\n",
    "\n",
    "### Requisitos\n",
    "\n",
    "```\n",
    "pip install pandas\n",
    "```"
   ]
  },
  {
   "cell_type": "markdown",
   "metadata": {},
   "source": [
    "## Magics Comandos\n",
    "\n",
    "### To write/save\n",
    "\n",
    "```\n",
    "%%writefile myfile.py\n",
    "```\n",
    "\n",
    "    write/save cell contents into myfile.py (use -a to append). Another alias: %%file myfile.py\n",
    "\n",
    "### To run\n",
    "\n",
    "```\n",
    "%run myfile.py\n",
    "```\n",
    "    \n",
    "    run myfile.py and output results in the current cell\n",
    "\n",
    "### To load/import\n",
    "\n",
    "```\n",
    "%load myfile.py\n",
    "```\n",
    "\n",
    "    load \"import\" myfile.py into the current cell\n",
    "\n",
    "### For more magic and help\n",
    "\n",
    "```\n",
    "%lsmagic\n",
    "```\n",
    "    list all the other cool cell magic commands.\n",
    "\n",
    "### %COMMAND-NAME?\n",
    "\n",
    "    for help on how to use a certain command. i.e. `%run?`\n"
   ]
  },
  {
   "cell_type": "markdown",
   "metadata": {},
   "source": [
    "Exemplo de carregamento do arquivo `main.py`:"
   ]
  },
  {
   "cell_type": "code",
   "execution_count": 1,
   "metadata": {},
   "outputs": [
    {
     "name": "stdout",
     "output_type": "stream",
     "text": [
      "Hello World!\n"
     ]
    }
   ],
   "source": [
    "# %load main.py\n",
    "def main():\n",
    "  print(\"Hello World!\")\n",
    "  \n",
    "main()"
   ]
  },
  {
   "cell_type": "code",
   "execution_count": null,
   "metadata": {},
   "outputs": [],
   "source": []
  }
 ],
 "metadata": {
  "kernelspec": {
   "display_name": "Python 3",
   "language": "python",
   "name": "python3"
  },
  "language_info": {
   "codemirror_mode": {
    "name": "ipython",
    "version": 3
   },
   "file_extension": ".py",
   "mimetype": "text/x-python",
   "name": "python",
   "nbconvert_exporter": "python",
   "pygments_lexer": "ipython3",
   "version": "3.7.2"
  }
 },
 "nbformat": 4,
 "nbformat_minor": 2
}
